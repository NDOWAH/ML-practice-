{
 "cells": [
  {
   "cell_type": "code",
   "execution_count": 1,
   "id": "60b3809f",
   "metadata": {
    "_cell_guid": "b1076dfc-b9ad-4769-8c92-a6c4dae69d19",
    "_uuid": "8f2839f25d086af736a60e9eeb907d3b93b6e0e5",
    "execution": {
     "iopub.execute_input": "2022-05-21T10:24:11.694821Z",
     "iopub.status.busy": "2022-05-21T10:24:11.694454Z",
     "iopub.status.idle": "2022-05-21T10:24:11.714539Z",
     "shell.execute_reply": "2022-05-21T10:24:11.713886Z"
    },
    "papermill": {
     "duration": 0.043511,
     "end_time": "2022-05-21T10:24:11.717053",
     "exception": false,
     "start_time": "2022-05-21T10:24:11.673542",
     "status": "completed"
    },
    "tags": []
   },
   "outputs": [
    {
     "name": "stdout",
     "output_type": "stream",
     "text": [
      "/kaggle/input/melbourne-housing-snapshot/melb_data.csv\n"
     ]
    }
   ],
   "source": [
    "# This Python 3 environment comes with many helpful analytics libraries installed\n",
    "# It is defined by the kaggle/python Docker image: https://github.com/kaggle/docker-python\n",
    "# For example, here's several helpful packages to load\n",
    "\n",
    "import numpy as np # linear algebra\n",
    "import pandas as pd # data processing, CSV file I/O (e.g. pd.read_csv)\n",
    "\n",
    "# Input data files are available in the read-only \"../input/\" directory\n",
    "# For example, running this (by clicking run or pressing Shift+Enter) will list all files under the input directory\n",
    "\n",
    "import os\n",
    "for dirname, _, filenames in os.walk('/kaggle/input'):\n",
    "    for filename in filenames:\n",
    "        print(os.path.join(dirname, filename))\n",
    "\n",
    "# You can write up to 20GB to the current directory (/kaggle/working/) that gets preserved as output when you create a version using \"Save & Run All\" \n",
    "# You can also write temporary files to /kaggle/temp/, but they won't be saved outside of the current session"
   ]
  },
  {
   "cell_type": "markdown",
   "id": "9943de82",
   "metadata": {
    "papermill": {
     "duration": 0.017818,
     "end_time": "2022-05-21T10:24:11.754276",
     "exception": false,
     "start_time": "2022-05-21T10:24:11.736458",
     "status": "completed"
    },
    "tags": []
   },
   "source": [
    "important libraries for the notebook"
   ]
  },
  {
   "cell_type": "code",
   "execution_count": 2,
   "id": "8450a418",
   "metadata": {
    "execution": {
     "iopub.execute_input": "2022-05-21T10:24:11.791918Z",
     "iopub.status.busy": "2022-05-21T10:24:11.791623Z",
     "iopub.status.idle": "2022-05-21T10:24:13.265578Z",
     "shell.execute_reply": "2022-05-21T10:24:13.264567Z"
    },
    "papermill": {
     "duration": 1.495671,
     "end_time": "2022-05-21T10:24:13.268076",
     "exception": false,
     "start_time": "2022-05-21T10:24:11.772405",
     "status": "completed"
    },
    "tags": []
   },
   "outputs": [],
   "source": [
    "from sklearn.model_selection import train_test_split\n",
    "from sklearn.ensemble import RandomForestRegressor\n",
    "from sklearn.metrics import mean_absolute_error\n",
    "from sklearn.impute import SimpleImputer"
   ]
  },
  {
   "cell_type": "markdown",
   "id": "ef53cf71",
   "metadata": {
    "papermill": {
     "duration": 0.018894,
     "end_time": "2022-05-21T10:24:13.306162",
     "exception": false,
     "start_time": "2022-05-21T10:24:13.287268",
     "status": "completed"
    },
    "tags": []
   },
   "source": [
    "dataset path"
   ]
  },
  {
   "cell_type": "code",
   "execution_count": 3,
   "id": "1333745d",
   "metadata": {
    "execution": {
     "iopub.execute_input": "2022-05-21T10:24:13.346076Z",
     "iopub.status.busy": "2022-05-21T10:24:13.345741Z",
     "iopub.status.idle": "2022-05-21T10:24:13.442500Z",
     "shell.execute_reply": "2022-05-21T10:24:13.441867Z"
    },
    "papermill": {
     "duration": 0.119698,
     "end_time": "2022-05-21T10:24:13.444884",
     "exception": false,
     "start_time": "2022-05-21T10:24:13.325186",
     "status": "completed"
    },
    "tags": []
   },
   "outputs": [],
   "source": [
    "path = '../input/melbourne-housing-snapshot/melb_data.csv'\n",
    "dataset = pd.read_csv(path)"
   ]
  },
  {
   "cell_type": "markdown",
   "id": "cf5f0666",
   "metadata": {
    "papermill": {
     "duration": 0.019147,
     "end_time": "2022-05-21T10:24:13.482229",
     "exception": false,
     "start_time": "2022-05-21T10:24:13.463082",
     "status": "completed"
    },
    "tags": []
   },
   "source": [
    "comfirming the presence of missing values"
   ]
  },
  {
   "cell_type": "code",
   "execution_count": 4,
   "id": "2e472af0",
   "metadata": {
    "execution": {
     "iopub.execute_input": "2022-05-21T10:24:13.522917Z",
     "iopub.status.busy": "2022-05-21T10:24:13.522576Z",
     "iopub.status.idle": "2022-05-21T10:24:13.548658Z",
     "shell.execute_reply": "2022-05-21T10:24:13.547917Z"
    },
    "papermill": {
     "duration": 0.0483,
     "end_time": "2022-05-21T10:24:13.550900",
     "exception": false,
     "start_time": "2022-05-21T10:24:13.502600",
     "status": "completed"
    },
    "tags": []
   },
   "outputs": [
    {
     "data": {
      "text/plain": [
       "Suburb           False\n",
       "Address          False\n",
       "Rooms            False\n",
       "Type             False\n",
       "Price            False\n",
       "Method           False\n",
       "SellerG          False\n",
       "Date             False\n",
       "Distance         False\n",
       "Postcode         False\n",
       "Bedroom2         False\n",
       "Bathroom         False\n",
       "Car               True\n",
       "Landsize         False\n",
       "BuildingArea      True\n",
       "YearBuilt         True\n",
       "CouncilArea       True\n",
       "Lattitude        False\n",
       "Longtitude       False\n",
       "Regionname       False\n",
       "Propertycount    False\n",
       "dtype: bool"
      ]
     },
     "execution_count": 4,
     "metadata": {},
     "output_type": "execute_result"
    }
   ],
   "source": [
    "dataset.isnull().any()==True"
   ]
  },
  {
   "cell_type": "markdown",
   "id": "ff65f6c7",
   "metadata": {
    "papermill": {
     "duration": 0.019465,
     "end_time": "2022-05-21T10:24:13.590232",
     "exception": false,
     "start_time": "2022-05-21T10:24:13.570767",
     "status": "completed"
    },
    "tags": []
   },
   "source": [
    "Extracting missing numeric values"
   ]
  },
  {
   "cell_type": "code",
   "execution_count": 5,
   "id": "6cd61c1d",
   "metadata": {
    "execution": {
     "iopub.execute_input": "2022-05-21T10:24:13.629578Z",
     "iopub.status.busy": "2022-05-21T10:24:13.629043Z",
     "iopub.status.idle": "2022-05-21T10:24:13.644373Z",
     "shell.execute_reply": "2022-05-21T10:24:13.643522Z"
    },
    "papermill": {
     "duration": 0.037679,
     "end_time": "2022-05-21T10:24:13.646566",
     "exception": false,
     "start_time": "2022-05-21T10:24:13.608887",
     "status": "completed"
    },
    "tags": []
   },
   "outputs": [],
   "source": [
    "new_dataset = dataset.select_dtypes(exclude='object')"
   ]
  },
  {
   "cell_type": "code",
   "execution_count": 6,
   "id": "7be7a62f",
   "metadata": {
    "execution": {
     "iopub.execute_input": "2022-05-21T10:24:13.685826Z",
     "iopub.status.busy": "2022-05-21T10:24:13.685128Z",
     "iopub.status.idle": "2022-05-21T10:24:13.700263Z",
     "shell.execute_reply": "2022-05-21T10:24:13.699147Z"
    },
    "papermill": {
     "duration": 0.038035,
     "end_time": "2022-05-21T10:24:13.703089",
     "exception": false,
     "start_time": "2022-05-21T10:24:13.665054",
     "status": "completed"
    },
    "tags": []
   },
   "outputs": [],
   "source": [
    "imputed = SimpleImputer()\n",
    "n_dataset = pd.DataFrame(imputed.fit_transform(new_dataset))"
   ]
  },
  {
   "cell_type": "markdown",
   "id": "8b760b25",
   "metadata": {
    "papermill": {
     "duration": 0.018388,
     "end_time": "2022-05-21T10:24:13.740171",
     "exception": false,
     "start_time": "2022-05-21T10:24:13.721783",
     "status": "completed"
    },
    "tags": []
   },
   "source": [
    "spliting the dataset"
   ]
  },
  {
   "cell_type": "code",
   "execution_count": 7,
   "id": "40a041a9",
   "metadata": {
    "execution": {
     "iopub.execute_input": "2022-05-21T10:24:13.779276Z",
     "iopub.status.busy": "2022-05-21T10:24:13.778975Z",
     "iopub.status.idle": "2022-05-21T10:24:13.784332Z",
     "shell.execute_reply": "2022-05-21T10:24:13.783366Z"
    },
    "papermill": {
     "duration": 0.027433,
     "end_time": "2022-05-21T10:24:13.786488",
     "exception": false,
     "start_time": "2022-05-21T10:24:13.759055",
     "status": "completed"
    },
    "tags": []
   },
   "outputs": [
    {
     "name": "stdout",
     "output_type": "stream",
     "text": [
      "<class 'pandas.core.indexes.base.Index'>\n"
     ]
    }
   ],
   "source": [
    "col = dataset.columns\n",
    "print(type(col))"
   ]
  },
  {
   "cell_type": "markdown",
   "id": "4ec1cd0b",
   "metadata": {
    "papermill": {
     "duration": 0.019543,
     "end_time": "2022-05-21T10:24:13.826383",
     "exception": false,
     "start_time": "2022-05-21T10:24:13.806840",
     "status": "completed"
    },
    "tags": []
   },
   "source": [
    "SimpleImputer strip off the columns names. As such, columns names now becomes integer values. The code below finds the index of the price column."
   ]
  },
  {
   "cell_type": "code",
   "execution_count": 8,
   "id": "819460cd",
   "metadata": {
    "execution": {
     "iopub.execute_input": "2022-05-21T10:24:13.867858Z",
     "iopub.status.busy": "2022-05-21T10:24:13.866894Z",
     "iopub.status.idle": "2022-05-21T10:24:13.872406Z",
     "shell.execute_reply": "2022-05-21T10:24:13.871730Z"
    },
    "papermill": {
     "duration": 0.027657,
     "end_time": "2022-05-21T10:24:13.874688",
     "exception": false,
     "start_time": "2022-05-21T10:24:13.847031",
     "status": "completed"
    },
    "tags": []
   },
   "outputs": [
    {
     "name": "stdout",
     "output_type": "stream",
     "text": [
      "Got! it,the index of Price is:4.\n"
     ]
    }
   ],
   "source": [
    "count=0\n",
    "for col in dataset.columns:\n",
    "    if col =='Price':\n",
    "        print(f'Got! it,the index of {col} is:{count}.')\n",
    "    count +=1"
   ]
  },
  {
   "cell_type": "code",
   "execution_count": 9,
   "id": "ce1c7461",
   "metadata": {
    "execution": {
     "iopub.execute_input": "2022-05-21T10:24:13.915782Z",
     "iopub.status.busy": "2022-05-21T10:24:13.915213Z",
     "iopub.status.idle": "2022-05-21T10:24:13.952125Z",
     "shell.execute_reply": "2022-05-21T10:24:13.951003Z"
    },
    "papermill": {
     "duration": 0.060012,
     "end_time": "2022-05-21T10:24:13.954489",
     "exception": false,
     "start_time": "2022-05-21T10:24:13.894477",
     "status": "completed"
    },
    "tags": []
   },
   "outputs": [
    {
     "data": {
      "text/html": [
       "<div>\n",
       "<style scoped>\n",
       "    .dataframe tbody tr th:only-of-type {\n",
       "        vertical-align: middle;\n",
       "    }\n",
       "\n",
       "    .dataframe tbody tr th {\n",
       "        vertical-align: top;\n",
       "    }\n",
       "\n",
       "    .dataframe thead th {\n",
       "        text-align: right;\n",
       "    }\n",
       "</style>\n",
       "<table border=\"1\" class=\"dataframe\">\n",
       "  <thead>\n",
       "    <tr style=\"text-align: right;\">\n",
       "      <th></th>\n",
       "      <th>0</th>\n",
       "      <th>1</th>\n",
       "      <th>2</th>\n",
       "      <th>3</th>\n",
       "      <th>5</th>\n",
       "      <th>6</th>\n",
       "      <th>7</th>\n",
       "      <th>8</th>\n",
       "      <th>9</th>\n",
       "      <th>10</th>\n",
       "      <th>11</th>\n",
       "      <th>12</th>\n",
       "    </tr>\n",
       "  </thead>\n",
       "  <tbody>\n",
       "    <tr>\n",
       "      <th>0</th>\n",
       "      <td>2.0</td>\n",
       "      <td>1480000.0</td>\n",
       "      <td>2.5</td>\n",
       "      <td>3067.0</td>\n",
       "      <td>1.0</td>\n",
       "      <td>1.0</td>\n",
       "      <td>202.0</td>\n",
       "      <td>151.96765</td>\n",
       "      <td>1964.684217</td>\n",
       "      <td>-37.79960</td>\n",
       "      <td>144.99840</td>\n",
       "      <td>4019.0</td>\n",
       "    </tr>\n",
       "    <tr>\n",
       "      <th>1</th>\n",
       "      <td>2.0</td>\n",
       "      <td>1035000.0</td>\n",
       "      <td>2.5</td>\n",
       "      <td>3067.0</td>\n",
       "      <td>1.0</td>\n",
       "      <td>0.0</td>\n",
       "      <td>156.0</td>\n",
       "      <td>79.00000</td>\n",
       "      <td>1900.000000</td>\n",
       "      <td>-37.80790</td>\n",
       "      <td>144.99340</td>\n",
       "      <td>4019.0</td>\n",
       "    </tr>\n",
       "    <tr>\n",
       "      <th>2</th>\n",
       "      <td>3.0</td>\n",
       "      <td>1465000.0</td>\n",
       "      <td>2.5</td>\n",
       "      <td>3067.0</td>\n",
       "      <td>2.0</td>\n",
       "      <td>0.0</td>\n",
       "      <td>134.0</td>\n",
       "      <td>150.00000</td>\n",
       "      <td>1900.000000</td>\n",
       "      <td>-37.80930</td>\n",
       "      <td>144.99440</td>\n",
       "      <td>4019.0</td>\n",
       "    </tr>\n",
       "    <tr>\n",
       "      <th>3</th>\n",
       "      <td>3.0</td>\n",
       "      <td>850000.0</td>\n",
       "      <td>2.5</td>\n",
       "      <td>3067.0</td>\n",
       "      <td>2.0</td>\n",
       "      <td>1.0</td>\n",
       "      <td>94.0</td>\n",
       "      <td>151.96765</td>\n",
       "      <td>1964.684217</td>\n",
       "      <td>-37.79690</td>\n",
       "      <td>144.99690</td>\n",
       "      <td>4019.0</td>\n",
       "    </tr>\n",
       "    <tr>\n",
       "      <th>4</th>\n",
       "      <td>4.0</td>\n",
       "      <td>1600000.0</td>\n",
       "      <td>2.5</td>\n",
       "      <td>3067.0</td>\n",
       "      <td>1.0</td>\n",
       "      <td>2.0</td>\n",
       "      <td>120.0</td>\n",
       "      <td>142.00000</td>\n",
       "      <td>2014.000000</td>\n",
       "      <td>-37.80720</td>\n",
       "      <td>144.99410</td>\n",
       "      <td>4019.0</td>\n",
       "    </tr>\n",
       "    <tr>\n",
       "      <th>...</th>\n",
       "      <td>...</td>\n",
       "      <td>...</td>\n",
       "      <td>...</td>\n",
       "      <td>...</td>\n",
       "      <td>...</td>\n",
       "      <td>...</td>\n",
       "      <td>...</td>\n",
       "      <td>...</td>\n",
       "      <td>...</td>\n",
       "      <td>...</td>\n",
       "      <td>...</td>\n",
       "      <td>...</td>\n",
       "    </tr>\n",
       "    <tr>\n",
       "      <th>13575</th>\n",
       "      <td>4.0</td>\n",
       "      <td>1245000.0</td>\n",
       "      <td>16.7</td>\n",
       "      <td>3150.0</td>\n",
       "      <td>2.0</td>\n",
       "      <td>2.0</td>\n",
       "      <td>652.0</td>\n",
       "      <td>151.96765</td>\n",
       "      <td>1981.000000</td>\n",
       "      <td>-37.90562</td>\n",
       "      <td>145.16761</td>\n",
       "      <td>7392.0</td>\n",
       "    </tr>\n",
       "    <tr>\n",
       "      <th>13576</th>\n",
       "      <td>3.0</td>\n",
       "      <td>1031000.0</td>\n",
       "      <td>6.8</td>\n",
       "      <td>3016.0</td>\n",
       "      <td>2.0</td>\n",
       "      <td>2.0</td>\n",
       "      <td>333.0</td>\n",
       "      <td>133.00000</td>\n",
       "      <td>1995.000000</td>\n",
       "      <td>-37.85927</td>\n",
       "      <td>144.87904</td>\n",
       "      <td>6380.0</td>\n",
       "    </tr>\n",
       "    <tr>\n",
       "      <th>13577</th>\n",
       "      <td>3.0</td>\n",
       "      <td>1170000.0</td>\n",
       "      <td>6.8</td>\n",
       "      <td>3016.0</td>\n",
       "      <td>2.0</td>\n",
       "      <td>4.0</td>\n",
       "      <td>436.0</td>\n",
       "      <td>151.96765</td>\n",
       "      <td>1997.000000</td>\n",
       "      <td>-37.85274</td>\n",
       "      <td>144.88738</td>\n",
       "      <td>6380.0</td>\n",
       "    </tr>\n",
       "    <tr>\n",
       "      <th>13578</th>\n",
       "      <td>4.0</td>\n",
       "      <td>2500000.0</td>\n",
       "      <td>6.8</td>\n",
       "      <td>3016.0</td>\n",
       "      <td>1.0</td>\n",
       "      <td>5.0</td>\n",
       "      <td>866.0</td>\n",
       "      <td>157.00000</td>\n",
       "      <td>1920.000000</td>\n",
       "      <td>-37.85908</td>\n",
       "      <td>144.89299</td>\n",
       "      <td>6380.0</td>\n",
       "    </tr>\n",
       "    <tr>\n",
       "      <th>13579</th>\n",
       "      <td>4.0</td>\n",
       "      <td>1285000.0</td>\n",
       "      <td>6.3</td>\n",
       "      <td>3013.0</td>\n",
       "      <td>1.0</td>\n",
       "      <td>1.0</td>\n",
       "      <td>362.0</td>\n",
       "      <td>112.00000</td>\n",
       "      <td>1920.000000</td>\n",
       "      <td>-37.81188</td>\n",
       "      <td>144.88449</td>\n",
       "      <td>6543.0</td>\n",
       "    </tr>\n",
       "  </tbody>\n",
       "</table>\n",
       "<p>13580 rows × 12 columns</p>\n",
       "</div>"
      ],
      "text/plain": [
       "        0          1     2       3    5    6      7          8            9   \\\n",
       "0      2.0  1480000.0   2.5  3067.0  1.0  1.0  202.0  151.96765  1964.684217   \n",
       "1      2.0  1035000.0   2.5  3067.0  1.0  0.0  156.0   79.00000  1900.000000   \n",
       "2      3.0  1465000.0   2.5  3067.0  2.0  0.0  134.0  150.00000  1900.000000   \n",
       "3      3.0   850000.0   2.5  3067.0  2.0  1.0   94.0  151.96765  1964.684217   \n",
       "4      4.0  1600000.0   2.5  3067.0  1.0  2.0  120.0  142.00000  2014.000000   \n",
       "...    ...        ...   ...     ...  ...  ...    ...        ...          ...   \n",
       "13575  4.0  1245000.0  16.7  3150.0  2.0  2.0  652.0  151.96765  1981.000000   \n",
       "13576  3.0  1031000.0   6.8  3016.0  2.0  2.0  333.0  133.00000  1995.000000   \n",
       "13577  3.0  1170000.0   6.8  3016.0  2.0  4.0  436.0  151.96765  1997.000000   \n",
       "13578  4.0  2500000.0   6.8  3016.0  1.0  5.0  866.0  157.00000  1920.000000   \n",
       "13579  4.0  1285000.0   6.3  3013.0  1.0  1.0  362.0  112.00000  1920.000000   \n",
       "\n",
       "             10         11      12  \n",
       "0     -37.79960  144.99840  4019.0  \n",
       "1     -37.80790  144.99340  4019.0  \n",
       "2     -37.80930  144.99440  4019.0  \n",
       "3     -37.79690  144.99690  4019.0  \n",
       "4     -37.80720  144.99410  4019.0  \n",
       "...         ...        ...     ...  \n",
       "13575 -37.90562  145.16761  7392.0  \n",
       "13576 -37.85927  144.87904  6380.0  \n",
       "13577 -37.85274  144.88738  6380.0  \n",
       "13578 -37.85908  144.89299  6380.0  \n",
       "13579 -37.81188  144.88449  6543.0  \n",
       "\n",
       "[13580 rows x 12 columns]"
      ]
     },
     "execution_count": 9,
     "metadata": {},
     "output_type": "execute_result"
    }
   ],
   "source": [
    "y = new_dataset.Price\n",
    "X_ = n_dataset.drop([4],axis=1)\n",
    "X_"
   ]
  },
  {
   "cell_type": "code",
   "execution_count": 10,
   "id": "ce029797",
   "metadata": {
    "execution": {
     "iopub.execute_input": "2022-05-21T10:24:13.997605Z",
     "iopub.status.busy": "2022-05-21T10:24:13.997295Z",
     "iopub.status.idle": "2022-05-21T10:24:14.005933Z",
     "shell.execute_reply": "2022-05-21T10:24:14.004847Z"
    },
    "papermill": {
     "duration": 0.033259,
     "end_time": "2022-05-21T10:24:14.008614",
     "exception": false,
     "start_time": "2022-05-21T10:24:13.975355",
     "status": "completed"
    },
    "tags": []
   },
   "outputs": [],
   "source": [
    "X_train,X_val,y_train,y_val = train_test_split(X_,y,train_size=0.8,test_size=0.2)"
   ]
  },
  {
   "cell_type": "markdown",
   "id": "6d930eb1",
   "metadata": {
    "papermill": {
     "duration": 0.021304,
     "end_time": "2022-05-21T10:24:14.050185",
     "exception": false,
     "start_time": "2022-05-21T10:24:14.028881",
     "status": "completed"
    },
    "tags": []
   },
   "source": [
    "An evaluation matrics to check the model's accuracy."
   ]
  },
  {
   "cell_type": "code",
   "execution_count": 11,
   "id": "3977506e",
   "metadata": {
    "execution": {
     "iopub.execute_input": "2022-05-21T10:24:14.092502Z",
     "iopub.status.busy": "2022-05-21T10:24:14.092215Z",
     "iopub.status.idle": "2022-05-21T10:24:14.097638Z",
     "shell.execute_reply": "2022-05-21T10:24:14.096610Z"
    },
    "papermill": {
     "duration": 0.02898,
     "end_time": "2022-05-21T10:24:14.099809",
     "exception": false,
     "start_time": "2022-05-21T10:24:14.070829",
     "status": "completed"
    },
    "tags": []
   },
   "outputs": [],
   "source": [
    "def accuracy_score(X_train,X_val,y_train,y_val):\n",
    "    model = RandomForestRegressor()\n",
    "    model.fit(X_train,y_train)\n",
    "    pred = model.predict(X_val)\n",
    "    return f'The mean absolute error when SimpleImputer is used to handle missing values is:{mean_absolute_error(pred,y_val)}'"
   ]
  },
  {
   "cell_type": "code",
   "execution_count": 12,
   "id": "6bc3b00f",
   "metadata": {
    "execution": {
     "iopub.execute_input": "2022-05-21T10:24:14.142361Z",
     "iopub.status.busy": "2022-05-21T10:24:14.142056Z",
     "iopub.status.idle": "2022-05-21T10:24:19.062230Z",
     "shell.execute_reply": "2022-05-21T10:24:19.061326Z"
    },
    "papermill": {
     "duration": 4.944217,
     "end_time": "2022-05-21T10:24:19.064429",
     "exception": false,
     "start_time": "2022-05-21T10:24:14.120212",
     "status": "completed"
    },
    "tags": []
   },
   "outputs": [
    {
     "name": "stdout",
     "output_type": "stream",
     "text": [
      "The mean absolute error when SimpleImputer is used to handle missing values is:1198.2776693667158\n"
     ]
    }
   ],
   "source": [
    "print(accuracy_score(X_train,X_val,y_train,y_val))"
   ]
  },
  {
   "cell_type": "markdown",
   "id": "0d4d7b8e",
   "metadata": {
    "papermill": {
     "duration": 0.021495,
     "end_time": "2022-05-21T10:24:19.106269",
     "exception": false,
     "start_time": "2022-05-21T10:24:19.084774",
     "status": "completed"
    },
    "tags": []
   },
   "source": [
    "We can see that the mean absolute error of the model here(notebook2) is smaller than the one in notebook1. Thus the model here performs far more better than the model in notebook1."
   ]
  }
 ],
 "metadata": {
  "kernelspec": {
   "display_name": "Python 3",
   "language": "python",
   "name": "python3"
  },
  "language_info": {
   "codemirror_mode": {
    "name": "ipython",
    "version": 3
   },
   "file_extension": ".py",
   "mimetype": "text/x-python",
   "name": "python",
   "nbconvert_exporter": "python",
   "pygments_lexer": "ipython3",
   "version": "3.7.12"
  },
  "papermill": {
   "default_parameters": {},
   "duration": 19.248639,
   "end_time": "2022-05-21T10:24:19.849858",
   "environment_variables": {},
   "exception": null,
   "input_path": "__notebook__.ipynb",
   "output_path": "__notebook__.ipynb",
   "parameters": {},
   "start_time": "2022-05-21T10:24:00.601219",
   "version": "2.3.4"
  }
 },
 "nbformat": 4,
 "nbformat_minor": 5
}
