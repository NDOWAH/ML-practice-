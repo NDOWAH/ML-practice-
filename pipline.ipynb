{
 "cells": [
  {
   "cell_type": "code",
   "execution_count": 1,
   "id": "78479000",
   "metadata": {
    "_cell_guid": "b1076dfc-b9ad-4769-8c92-a6c4dae69d19",
    "_uuid": "8f2839f25d086af736a60e9eeb907d3b93b6e0e5",
    "execution": {
     "iopub.execute_input": "2022-05-24T03:05:08.792455Z",
     "iopub.status.busy": "2022-05-24T03:05:08.791852Z",
     "iopub.status.idle": "2022-05-24T03:05:08.811246Z",
     "shell.execute_reply": "2022-05-24T03:05:08.810515Z"
    },
    "papermill": {
     "duration": 0.045451,
     "end_time": "2022-05-24T03:05:08.814039",
     "exception": false,
     "start_time": "2022-05-24T03:05:08.768588",
     "status": "completed"
    },
    "tags": []
   },
   "outputs": [
    {
     "name": "stdout",
     "output_type": "stream",
     "text": [
      "/kaggle/input/melbourne-housing-snapshot/melb_data.csv\n"
     ]
    }
   ],
   "source": [
    "# This Python 3 environment comes with many helpful analytics libraries installed\n",
    "# It is defined by the kaggle/python Docker image: https://github.com/kaggle/docker-python\n",
    "# For example, here's several helpful packages to load\n",
    "\n",
    "import numpy as np # linear algebra\n",
    "import pandas as pd # data processing, CSV file I/O (e.g. pd.read_csv)\n",
    "\n",
    "# Input data files are available in the read-only \"../input/\" directory\n",
    "# For example, running this (by clicking run or pressing Shift+Enter) will list all files under the input directory\n",
    "\n",
    "import os\n",
    "for dirname, _, filenames in os.walk('/kaggle/input'):\n",
    "    for filename in filenames:\n",
    "        print(os.path.join(dirname, filename))\n",
    "\n",
    "# You can write up to 20GB to the current directory (/kaggle/working/) that gets preserved as output when you create a version using \"Save & Run All\" \n",
    "# You can also write temporary files to /kaggle/temp/, but they won't be saved outside of the current session"
   ]
  },
  {
   "cell_type": "code",
   "execution_count": 2,
   "id": "65b9f860",
   "metadata": {
    "execution": {
     "iopub.execute_input": "2022-05-24T03:05:08.859762Z",
     "iopub.status.busy": "2022-05-24T03:05:08.858839Z",
     "iopub.status.idle": "2022-05-24T03:05:10.250904Z",
     "shell.execute_reply": "2022-05-24T03:05:10.250003Z"
    },
    "papermill": {
     "duration": 1.416393,
     "end_time": "2022-05-24T03:05:10.253507",
     "exception": false,
     "start_time": "2022-05-24T03:05:08.837114",
     "status": "completed"
    },
    "tags": []
   },
   "outputs": [],
   "source": [
    "from sklearn.model_selection import train_test_split\n",
    "from sklearn.ensemble import RandomForestRegressor\n",
    "from sklearn.metrics import mean_absolute_error\n",
    "from sklearn.impute import SimpleImputer"
   ]
  },
  {
   "cell_type": "markdown",
   "id": "4525633d",
   "metadata": {
    "papermill": {
     "duration": 0.019732,
     "end_time": "2022-05-24T03:05:10.294187",
     "exception": false,
     "start_time": "2022-05-24T03:05:10.274455",
     "status": "completed"
    },
    "tags": []
   },
   "source": [
    "The main objective of this notebook is to experiment how piplining works"
   ]
  },
  {
   "cell_type": "code",
   "execution_count": 3,
   "id": "568b0598",
   "metadata": {
    "execution": {
     "iopub.execute_input": "2022-05-24T03:05:10.336331Z",
     "iopub.status.busy": "2022-05-24T03:05:10.335738Z",
     "iopub.status.idle": "2022-05-24T03:05:10.425921Z",
     "shell.execute_reply": "2022-05-24T03:05:10.425227Z"
    },
    "papermill": {
     "duration": 0.114091,
     "end_time": "2022-05-24T03:05:10.428395",
     "exception": false,
     "start_time": "2022-05-24T03:05:10.314304",
     "status": "completed"
    },
    "tags": []
   },
   "outputs": [],
   "source": [
    "path = '../input/melbourne-housing-snapshot/melb_data.csv'\n",
    "data = pd.read_csv(path)"
   ]
  },
  {
   "cell_type": "code",
   "execution_count": 4,
   "id": "f69f1f22",
   "metadata": {
    "execution": {
     "iopub.execute_input": "2022-05-24T03:05:10.471859Z",
     "iopub.status.busy": "2022-05-24T03:05:10.471387Z",
     "iopub.status.idle": "2022-05-24T03:05:10.487924Z",
     "shell.execute_reply": "2022-05-24T03:05:10.487253Z"
    },
    "papermill": {
     "duration": 0.040779,
     "end_time": "2022-05-24T03:05:10.490463",
     "exception": false,
     "start_time": "2022-05-24T03:05:10.449684",
     "status": "completed"
    },
    "tags": []
   },
   "outputs": [],
   "source": [
    "y = data['Price']\n",
    "X_ = data.drop(['Price'],axis=1)"
   ]
  },
  {
   "cell_type": "code",
   "execution_count": 5,
   "id": "0ce8e01e",
   "metadata": {
    "execution": {
     "iopub.execute_input": "2022-05-24T03:05:10.533706Z",
     "iopub.status.busy": "2022-05-24T03:05:10.533255Z",
     "iopub.status.idle": "2022-05-24T03:05:10.542808Z",
     "shell.execute_reply": "2022-05-24T03:05:10.542195Z"
    },
    "papermill": {
     "duration": 0.033406,
     "end_time": "2022-05-24T03:05:10.545140",
     "exception": false,
     "start_time": "2022-05-24T03:05:10.511734",
     "status": "completed"
    },
    "tags": []
   },
   "outputs": [],
   "source": [
    "X_train,X_val,y_train,y_val = train_test_split(X_,y, train_size=0.8,test_size=0.2)"
   ]
  },
  {
   "cell_type": "code",
   "execution_count": 6,
   "id": "5abf307a",
   "metadata": {
    "execution": {
     "iopub.execute_input": "2022-05-24T03:05:10.587650Z",
     "iopub.status.busy": "2022-05-24T03:05:10.587147Z",
     "iopub.status.idle": "2022-05-24T03:05:10.610857Z",
     "shell.execute_reply": "2022-05-24T03:05:10.610145Z"
    },
    "papermill": {
     "duration": 0.047543,
     "end_time": "2022-05-24T03:05:10.613095",
     "exception": false,
     "start_time": "2022-05-24T03:05:10.565552",
     "status": "completed"
    },
    "tags": []
   },
   "outputs": [],
   "source": [
    "categorical_col = [col for col in X_train.columns if X_train[col].nunique() < 10 and \n",
    "                   X_train[col].dtype=='object']\n",
    "numerical_col = [col for col in X_train.columns if X_train[col].dtype in ['int64','float64']]"
   ]
  },
  {
   "cell_type": "code",
   "execution_count": 7,
   "id": "d86099f0",
   "metadata": {
    "execution": {
     "iopub.execute_input": "2022-05-24T03:05:10.655368Z",
     "iopub.status.busy": "2022-05-24T03:05:10.655070Z",
     "iopub.status.idle": "2022-05-24T03:05:10.665640Z",
     "shell.execute_reply": "2022-05-24T03:05:10.664536Z"
    },
    "papermill": {
     "duration": 0.034148,
     "end_time": "2022-05-24T03:05:10.667826",
     "exception": false,
     "start_time": "2022-05-24T03:05:10.633678",
     "status": "completed"
    },
    "tags": []
   },
   "outputs": [],
   "source": [
    "cols = categorical_col + numerical_col\n",
    "X_train = X_train[cols].copy()\n",
    "X_val = X_val[cols].copy()"
   ]
  },
  {
   "cell_type": "code",
   "execution_count": 8,
   "id": "45497733",
   "metadata": {
    "execution": {
     "iopub.execute_input": "2022-05-24T03:05:10.710728Z",
     "iopub.status.busy": "2022-05-24T03:05:10.710434Z",
     "iopub.status.idle": "2022-05-24T03:05:10.739456Z",
     "shell.execute_reply": "2022-05-24T03:05:10.738524Z"
    },
    "papermill": {
     "duration": 0.053889,
     "end_time": "2022-05-24T03:05:10.742024",
     "exception": false,
     "start_time": "2022-05-24T03:05:10.688135",
     "status": "completed"
    },
    "tags": []
   },
   "outputs": [
    {
     "data": {
      "text/html": [
       "<div>\n",
       "<style scoped>\n",
       "    .dataframe tbody tr th:only-of-type {\n",
       "        vertical-align: middle;\n",
       "    }\n",
       "\n",
       "    .dataframe tbody tr th {\n",
       "        vertical-align: top;\n",
       "    }\n",
       "\n",
       "    .dataframe thead th {\n",
       "        text-align: right;\n",
       "    }\n",
       "</style>\n",
       "<table border=\"1\" class=\"dataframe\">\n",
       "  <thead>\n",
       "    <tr style=\"text-align: right;\">\n",
       "      <th></th>\n",
       "      <th>Type</th>\n",
       "      <th>Method</th>\n",
       "      <th>Regionname</th>\n",
       "      <th>Rooms</th>\n",
       "      <th>Distance</th>\n",
       "      <th>Postcode</th>\n",
       "      <th>Bedroom2</th>\n",
       "      <th>Bathroom</th>\n",
       "      <th>Car</th>\n",
       "      <th>Landsize</th>\n",
       "      <th>BuildingArea</th>\n",
       "      <th>YearBuilt</th>\n",
       "      <th>Lattitude</th>\n",
       "      <th>Longtitude</th>\n",
       "      <th>Propertycount</th>\n",
       "    </tr>\n",
       "  </thead>\n",
       "  <tbody>\n",
       "    <tr>\n",
       "      <th>7118</th>\n",
       "      <td>h</td>\n",
       "      <td>S</td>\n",
       "      <td>Southern Metropolitan</td>\n",
       "      <td>4</td>\n",
       "      <td>12.1</td>\n",
       "      <td>3163.0</td>\n",
       "      <td>4.0</td>\n",
       "      <td>2.0</td>\n",
       "      <td>1.0</td>\n",
       "      <td>650.0</td>\n",
       "      <td>NaN</td>\n",
       "      <td>1935.0</td>\n",
       "      <td>-37.89180</td>\n",
       "      <td>145.07690</td>\n",
       "      <td>4442.0</td>\n",
       "    </tr>\n",
       "    <tr>\n",
       "      <th>6286</th>\n",
       "      <td>h</td>\n",
       "      <td>SP</td>\n",
       "      <td>Northern Metropolitan</td>\n",
       "      <td>3</td>\n",
       "      <td>6.5</td>\n",
       "      <td>3071.0</td>\n",
       "      <td>2.0</td>\n",
       "      <td>2.0</td>\n",
       "      <td>1.0</td>\n",
       "      <td>417.0</td>\n",
       "      <td>159.0</td>\n",
       "      <td>1920.0</td>\n",
       "      <td>-37.75950</td>\n",
       "      <td>145.00170</td>\n",
       "      <td>8870.0</td>\n",
       "    </tr>\n",
       "    <tr>\n",
       "      <th>12944</th>\n",
       "      <td>h</td>\n",
       "      <td>SP</td>\n",
       "      <td>Northern Metropolitan</td>\n",
       "      <td>4</td>\n",
       "      <td>20.6</td>\n",
       "      <td>3064.0</td>\n",
       "      <td>4.0</td>\n",
       "      <td>2.0</td>\n",
       "      <td>2.0</td>\n",
       "      <td>312.0</td>\n",
       "      <td>148.0</td>\n",
       "      <td>2015.0</td>\n",
       "      <td>-37.56857</td>\n",
       "      <td>144.91694</td>\n",
       "      <td>15510.0</td>\n",
       "    </tr>\n",
       "    <tr>\n",
       "      <th>4549</th>\n",
       "      <td>h</td>\n",
       "      <td>S</td>\n",
       "      <td>South-Eastern Metropolitan</td>\n",
       "      <td>4</td>\n",
       "      <td>14.7</td>\n",
       "      <td>3167.0</td>\n",
       "      <td>4.0</td>\n",
       "      <td>2.0</td>\n",
       "      <td>2.0</td>\n",
       "      <td>581.0</td>\n",
       "      <td>NaN</td>\n",
       "      <td>NaN</td>\n",
       "      <td>-37.93550</td>\n",
       "      <td>145.09790</td>\n",
       "      <td>3692.0</td>\n",
       "    </tr>\n",
       "    <tr>\n",
       "      <th>4291</th>\n",
       "      <td>h</td>\n",
       "      <td>SP</td>\n",
       "      <td>Western Metropolitan</td>\n",
       "      <td>4</td>\n",
       "      <td>11.2</td>\n",
       "      <td>3042.0</td>\n",
       "      <td>4.0</td>\n",
       "      <td>2.0</td>\n",
       "      <td>2.0</td>\n",
       "      <td>650.0</td>\n",
       "      <td>150.0</td>\n",
       "      <td>1960.0</td>\n",
       "      <td>-37.74290</td>\n",
       "      <td>144.88800</td>\n",
       "      <td>2291.0</td>\n",
       "    </tr>\n",
       "  </tbody>\n",
       "</table>\n",
       "</div>"
      ],
      "text/plain": [
       "      Type Method                  Regionname  Rooms  Distance  Postcode  \\\n",
       "7118     h      S       Southern Metropolitan      4      12.1    3163.0   \n",
       "6286     h     SP       Northern Metropolitan      3       6.5    3071.0   \n",
       "12944    h     SP       Northern Metropolitan      4      20.6    3064.0   \n",
       "4549     h      S  South-Eastern Metropolitan      4      14.7    3167.0   \n",
       "4291     h     SP        Western Metropolitan      4      11.2    3042.0   \n",
       "\n",
       "       Bedroom2  Bathroom  Car  Landsize  BuildingArea  YearBuilt  Lattitude  \\\n",
       "7118        4.0       2.0  1.0     650.0           NaN     1935.0  -37.89180   \n",
       "6286        2.0       2.0  1.0     417.0         159.0     1920.0  -37.75950   \n",
       "12944       4.0       2.0  2.0     312.0         148.0     2015.0  -37.56857   \n",
       "4549        4.0       2.0  2.0     581.0           NaN        NaN  -37.93550   \n",
       "4291        4.0       2.0  2.0     650.0         150.0     1960.0  -37.74290   \n",
       "\n",
       "       Longtitude  Propertycount  \n",
       "7118    145.07690         4442.0  \n",
       "6286    145.00170         8870.0  \n",
       "12944   144.91694        15510.0  \n",
       "4549    145.09790         3692.0  \n",
       "4291    144.88800         2291.0  "
      ]
     },
     "execution_count": 8,
     "metadata": {},
     "output_type": "execute_result"
    }
   ],
   "source": [
    "X_train.head()"
   ]
  },
  {
   "cell_type": "markdown",
   "id": "a87544b2",
   "metadata": {
    "papermill": {
     "duration": 0.020383,
     "end_time": "2022-05-24T03:05:10.785318",
     "exception": false,
     "start_time": "2022-05-24T03:05:10.764935",
     "status": "completed"
    },
    "tags": []
   },
   "source": [
    "step1 defining the preprocessing steps"
   ]
  },
  {
   "cell_type": "code",
   "execution_count": 9,
   "id": "46b4c988",
   "metadata": {
    "execution": {
     "iopub.execute_input": "2022-05-24T03:05:10.828685Z",
     "iopub.status.busy": "2022-05-24T03:05:10.828117Z",
     "iopub.status.idle": "2022-05-24T03:05:10.841351Z",
     "shell.execute_reply": "2022-05-24T03:05:10.840603Z"
    },
    "papermill": {
     "duration": 0.037756,
     "end_time": "2022-05-24T03:05:10.843722",
     "exception": false,
     "start_time": "2022-05-24T03:05:10.805966",
     "status": "completed"
    },
    "tags": []
   },
   "outputs": [],
   "source": [
    "from sklearn.compose import ColumnTransformer # bundles preprocessing steps justlike pipline bundles preprocessing with modeling\n",
    "from sklearn.pipeline import Pipeline\n",
    "from sklearn.impute import SimpleImputer\n",
    "from sklearn.preprocessing import OneHotEncoder"
   ]
  },
  {
   "cell_type": "markdown",
   "id": "dc4346de",
   "metadata": {
    "papermill": {
     "duration": 0.020505,
     "end_time": "2022-05-24T03:05:10.885101",
     "exception": false,
     "start_time": "2022-05-24T03:05:10.864596",
     "status": "completed"
    },
    "tags": []
   },
   "source": [
    "preprocessing numerical data"
   ]
  },
  {
   "cell_type": "code",
   "execution_count": 10,
   "id": "9955b787",
   "metadata": {
    "execution": {
     "iopub.execute_input": "2022-05-24T03:05:10.929026Z",
     "iopub.status.busy": "2022-05-24T03:05:10.928708Z",
     "iopub.status.idle": "2022-05-24T03:05:10.933442Z",
     "shell.execute_reply": "2022-05-24T03:05:10.932601Z"
    },
    "papermill": {
     "duration": 0.029552,
     "end_time": "2022-05-24T03:05:10.935483",
     "exception": false,
     "start_time": "2022-05-24T03:05:10.905931",
     "status": "completed"
    },
    "tags": []
   },
   "outputs": [],
   "source": [
    "numerical_transformer= SimpleImputer(strategy='constant')\n",
    "categorical_transformer = Pipeline(steps=[\n",
    "    ('imputer', SimpleImputer(strategy='most_frequent')),\n",
    "    ('onehot', OneHotEncoder(handle_unknown='ignore'))\n",
    "])"
   ]
  },
  {
   "cell_type": "markdown",
   "id": "12da6cbb",
   "metadata": {
    "papermill": {
     "duration": 0.020711,
     "end_time": "2022-05-24T03:05:10.977164",
     "exception": false,
     "start_time": "2022-05-24T03:05:10.956453",
     "status": "completed"
    },
    "tags": []
   },
   "source": [
    "Bundling preprocessing for both categories"
   ]
  },
  {
   "cell_type": "code",
   "execution_count": 11,
   "id": "a3d85945",
   "metadata": {
    "execution": {
     "iopub.execute_input": "2022-05-24T03:05:11.020517Z",
     "iopub.status.busy": "2022-05-24T03:05:11.019928Z",
     "iopub.status.idle": "2022-05-24T03:05:11.024705Z",
     "shell.execute_reply": "2022-05-24T03:05:11.024067Z"
    },
    "papermill": {
     "duration": 0.029104,
     "end_time": "2022-05-24T03:05:11.026869",
     "exception": false,
     "start_time": "2022-05-24T03:05:10.997765",
     "status": "completed"
    },
    "tags": []
   },
   "outputs": [],
   "source": [
    "preprocessor = ColumnTransformer(\n",
    "    transformers =[\n",
    "        ('num', numerical_transformer,numerical_col),\n",
    "        ('cat',categorical_transformer,categorical_col)\n",
    "    ]\n",
    ")"
   ]
  },
  {
   "cell_type": "code",
   "execution_count": 12,
   "id": "87b38318",
   "metadata": {
    "execution": {
     "iopub.execute_input": "2022-05-24T03:05:11.071494Z",
     "iopub.status.busy": "2022-05-24T03:05:11.070932Z",
     "iopub.status.idle": "2022-05-24T03:05:11.075385Z",
     "shell.execute_reply": "2022-05-24T03:05:11.074824Z"
    },
    "papermill": {
     "duration": 0.028889,
     "end_time": "2022-05-24T03:05:11.077376",
     "exception": false,
     "start_time": "2022-05-24T03:05:11.048487",
     "status": "completed"
    },
    "tags": []
   },
   "outputs": [],
   "source": [
    "model = RandomForestRegressor(n_estimators=100, random_state=0)\n"
   ]
  },
  {
   "cell_type": "code",
   "execution_count": 13,
   "id": "59dfdf23",
   "metadata": {
    "execution": {
     "iopub.execute_input": "2022-05-24T03:05:11.120636Z",
     "iopub.status.busy": "2022-05-24T03:05:11.120120Z",
     "iopub.status.idle": "2022-05-24T03:05:11.124536Z",
     "shell.execute_reply": "2022-05-24T03:05:11.123960Z"
    },
    "papermill": {
     "duration": 0.02841,
     "end_time": "2022-05-24T03:05:11.126465",
     "exception": false,
     "start_time": "2022-05-24T03:05:11.098055",
     "status": "completed"
    },
    "tags": []
   },
   "outputs": [],
   "source": [
    "pipline = Pipeline(steps=[\n",
    "    ('preprocessor',preprocessor),\n",
    "    ('model',model)\n",
    "])"
   ]
  },
  {
   "cell_type": "code",
   "execution_count": 14,
   "id": "541524bb",
   "metadata": {
    "execution": {
     "iopub.execute_input": "2022-05-24T03:05:11.170531Z",
     "iopub.status.busy": "2022-05-24T03:05:11.169953Z",
     "iopub.status.idle": "2022-05-24T03:05:18.298755Z",
     "shell.execute_reply": "2022-05-24T03:05:18.297944Z"
    },
    "papermill": {
     "duration": 7.153124,
     "end_time": "2022-05-24T03:05:18.300833",
     "exception": false,
     "start_time": "2022-05-24T03:05:11.147709",
     "status": "completed"
    },
    "tags": []
   },
   "outputs": [
    {
     "data": {
      "text/plain": [
       "Pipeline(steps=[('preprocessor',\n",
       "                 ColumnTransformer(transformers=[('num',\n",
       "                                                  SimpleImputer(strategy='constant'),\n",
       "                                                  ['Rooms', 'Distance',\n",
       "                                                   'Postcode', 'Bedroom2',\n",
       "                                                   'Bathroom', 'Car',\n",
       "                                                   'Landsize', 'BuildingArea',\n",
       "                                                   'YearBuilt', 'Lattitude',\n",
       "                                                   'Longtitude',\n",
       "                                                   'Propertycount']),\n",
       "                                                 ('cat',\n",
       "                                                  Pipeline(steps=[('imputer',\n",
       "                                                                   SimpleImputer(strategy='most_frequent')),\n",
       "                                                                  ('onehot',\n",
       "                                                                   OneHotEncoder(handle_unknown='ignore'))]),\n",
       "                                                  ['Type', 'Method',\n",
       "                                                   'Regionname'])])),\n",
       "                ('model', RandomForestRegressor(random_state=0))])"
      ]
     },
     "execution_count": 14,
     "metadata": {},
     "output_type": "execute_result"
    }
   ],
   "source": [
    "pipline.fit(X_train, y_train)"
   ]
  },
  {
   "cell_type": "markdown",
   "id": "8f47e142",
   "metadata": {
    "papermill": {
     "duration": 0.020951,
     "end_time": "2022-05-24T03:05:18.342819",
     "exception": false,
     "start_time": "2022-05-24T03:05:18.321868",
     "status": "completed"
    },
    "tags": []
   },
   "source": [
    "Note the validation data is automatically preprocessed and prediction made."
   ]
  },
  {
   "cell_type": "code",
   "execution_count": 15,
   "id": "67d662a0",
   "metadata": {
    "execution": {
     "iopub.execute_input": "2022-05-24T03:05:18.386772Z",
     "iopub.status.busy": "2022-05-24T03:05:18.385835Z",
     "iopub.status.idle": "2022-05-24T03:05:18.502358Z",
     "shell.execute_reply": "2022-05-24T03:05:18.501481Z"
    },
    "papermill": {
     "duration": 0.140996,
     "end_time": "2022-05-24T03:05:18.504795",
     "exception": false,
     "start_time": "2022-05-24T03:05:18.363799",
     "status": "completed"
    },
    "tags": []
   },
   "outputs": [],
   "source": [
    "pred = pipline.predict(X_val)"
   ]
  },
  {
   "cell_type": "code",
   "execution_count": 16,
   "id": "990c7f99",
   "metadata": {
    "execution": {
     "iopub.execute_input": "2022-05-24T03:05:18.552171Z",
     "iopub.status.busy": "2022-05-24T03:05:18.551620Z",
     "iopub.status.idle": "2022-05-24T03:05:18.558129Z",
     "shell.execute_reply": "2022-05-24T03:05:18.557236Z"
    },
    "papermill": {
     "duration": 0.033403,
     "end_time": "2022-05-24T03:05:18.560743",
     "exception": false,
     "start_time": "2022-05-24T03:05:18.527340",
     "status": "completed"
    },
    "tags": []
   },
   "outputs": [
    {
     "name": "stdout",
     "output_type": "stream",
     "text": [
      "170141.86451399117\n"
     ]
    }
   ],
   "source": [
    "print(mean_absolute_error(pred,y_val))"
   ]
  }
 ],
 "metadata": {
  "kernelspec": {
   "display_name": "Python 3",
   "language": "python",
   "name": "python3"
  },
  "language_info": {
   "codemirror_mode": {
    "name": "ipython",
    "version": 3
   },
   "file_extension": ".py",
   "mimetype": "text/x-python",
   "name": "python",
   "nbconvert_exporter": "python",
   "pygments_lexer": "ipython3",
   "version": "3.7.12"
  },
  "papermill": {
   "default_parameters": {},
   "duration": 20.846089,
   "end_time": "2022-05-24T03:05:19.407920",
   "environment_variables": {},
   "exception": null,
   "input_path": "__notebook__.ipynb",
   "output_path": "__notebook__.ipynb",
   "parameters": {},
   "start_time": "2022-05-24T03:04:58.561831",
   "version": "2.3.4"
  }
 },
 "nbformat": 4,
 "nbformat_minor": 5
}
